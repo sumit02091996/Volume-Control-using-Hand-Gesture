{
 "cells": [
  {
   "cell_type": "code",
   "execution_count": 14,
   "id": "efb705ad",
   "metadata": {},
   "outputs": [
    {
     "name": "stdout",
     "output_type": "stream",
     "text": [
      "Requirement already satisfied: cv in c:\\users\\anike\\anaconda3\\lib\\site-packages (1.0.0)Note: you may need to restart the kernel to use updated packages.\n",
      "\n",
      "Requirement already satisfied: cv in c:\\users\\anike\\anaconda3\\lib\\site-packages (1.0.0)Note: you may need to restart the kernel to use updated packages.\n",
      "\n"
     ]
    }
   ],
   "source": [
    "pip install cv"
   ]
  },
  {
   "cell_type": "code",
   "execution_count": 15,
   "id": "fe66b8b6",
   "metadata": {},
   "outputs": [
    {
     "name": "stdout",
     "output_type": "stream",
     "text": [
      "Requirement already satisfied: opencv-python in c:\\users\\anike\\anaconda3\\lib\\site-packages (4.6.0.66)\n",
      "Requirement already satisfied: numpy>=1.14.5 in c:\\users\\anike\\anaconda3\\lib\\site-packages (from opencv-python) (1.21.6)\n",
      "Note: you may need to restart the kernel to use updated packages.\n",
      "Requirement already satisfied: opencv-python in c:\\users\\anike\\anaconda3\\lib\\site-packages (4.6.0.66)\n",
      "Requirement already satisfied: numpy>=1.14.5 in c:\\users\\anike\\anaconda3\\lib\\site-packages (from opencv-python) (1.21.6)\n",
      "Note: you may need to restart the kernel to use updated packages.\n"
     ]
    }
   ],
   "source": [
    "pip install opencv-python"
   ]
  },
  {
   "cell_type": "code",
   "execution_count": 17,
   "id": "709f4842",
   "metadata": {},
   "outputs": [
    {
     "name": "stdout",
     "output_type": "stream",
     "text": [
      "Requirement already satisfied: mediapipe in c:\\users\\anike\\anaconda3\\lib\\site-packages (0.9.1.0)Note: you may need to restart the kernel to use updated packages.\n",
      "Requirement already satisfied: flatbuffers>=2.0 in c:\\users\\anike\\anaconda3\\lib\\site-packages (from mediapipe) (22.10.26)\n",
      "Requirement already satisfied: attrs>=19.1.0 in c:\\users\\anike\\anaconda3\\lib\\site-packages (from mediapipe) (21.4.0)\n",
      "Requirement already satisfied: mediapipe in c:\\users\\anike\\anaconda3\\lib\\site-packages (0.9.1.0)Note: you may need to restart the kernel to use updated packages.\n",
      "Requirement already satisfied: flatbuffers>=2.0 in c:\\users\\anike\\anaconda3\\lib\\site-packages (from mediapipe) (22.10.26)\n",
      "Requirement already satisfied: attrs>=19.1.0 in c:\\users\\anike\\anaconda3\\lib\\site-packages (from mediapipe) (21.4.0)\n",
      "\n",
      "Requirement already satisfied: matplotlib in c:\\users\\anike\\anaconda3\\lib\\site-packages (from mediapipe) (3.5.1)\n",
      "Requirement already satisfied: absl-py in c:\\users\\anike\\anaconda3\\lib\\site-packages (from mediapipe) (1.3.0)\n",
      "Requirement already satisfied: protobuf<4,>=3.11 in c:\\users\\anike\\anaconda3\\lib\\site-packages (from mediapipe) (3.19.1)\n",
      "Requirement already satisfied: numpy in c:\\users\\anike\\anaconda3\\lib\\site-packages (from mediapipe) (1.21.6)\n",
      "Requirement already satisfied: opencv-contrib-python in c:\\users\\anike\\anaconda3\\lib\\site-packages (from mediapipe) (4.7.0.72)\n",
      "Requirement already satisfied: pyparsing>=2.2.1 in c:\\users\\anike\\anaconda3\\lib\\site-packages (from matplotlib->mediapipe) (3.0.4)\n",
      "Requirement already satisfied: cycler>=0.10 in c:\\users\\anike\\anaconda3\\lib\\site-packages (from matplotlib->mediapipe) (0.11.0)\n",
      "Requirement already satisfied: packaging>=20.0 in c:\\users\\anike\\anaconda3\\lib\\site-packages (from matplotlib->mediapipe) (21.3)\n",
      "Requirement already satisfied: python-dateutil>=2.7 in c:\\users\\anike\\anaconda3\\lib\\site-packages (from matplotlib->mediapipe) (2.8.2)\n",
      "Requirement already satisfied: fonttools>=4.22.0 in c:\\users\\anike\\anaconda3\\lib\\site-packages (from matplotlib->mediapipe) (4.25.0)\n",
      "Requirement already satisfied: kiwisolver>=1.0.1 in c:\\users\\anike\\anaconda3\\lib\\site-packages (from matplotlib->mediapipe) (1.3.2)\n",
      "Requirement already satisfied: pillow>=6.2.0 in c:\\users\\anike\\anaconda3\\lib\\site-packages (from matplotlib->mediapipe) (9.0.1)\n",
      "Requirement already satisfied: six>=1.5 in c:\\users\\anike\\anaconda3\\lib\\site-packages (from python-dateutil>=2.7->matplotlib->mediapipe) (1.16.0)\n",
      "\n",
      "Requirement already satisfied: matplotlib in c:\\users\\anike\\anaconda3\\lib\\site-packages (from mediapipe) (3.5.1)\n",
      "Requirement already satisfied: absl-py in c:\\users\\anike\\anaconda3\\lib\\site-packages (from mediapipe) (1.3.0)\n",
      "Requirement already satisfied: protobuf<4,>=3.11 in c:\\users\\anike\\anaconda3\\lib\\site-packages (from mediapipe) (3.19.1)\n",
      "Requirement already satisfied: numpy in c:\\users\\anike\\anaconda3\\lib\\site-packages (from mediapipe) (1.21.6)\n",
      "Requirement already satisfied: opencv-contrib-python in c:\\users\\anike\\anaconda3\\lib\\site-packages (from mediapipe) (4.7.0.72)\n",
      "Requirement already satisfied: pyparsing>=2.2.1 in c:\\users\\anike\\anaconda3\\lib\\site-packages (from matplotlib->mediapipe) (3.0.4)\n",
      "Requirement already satisfied: cycler>=0.10 in c:\\users\\anike\\anaconda3\\lib\\site-packages (from matplotlib->mediapipe) (0.11.0)\n",
      "Requirement already satisfied: packaging>=20.0 in c:\\users\\anike\\anaconda3\\lib\\site-packages (from matplotlib->mediapipe) (21.3)\n",
      "Requirement already satisfied: python-dateutil>=2.7 in c:\\users\\anike\\anaconda3\\lib\\site-packages (from matplotlib->mediapipe) (2.8.2)\n",
      "Requirement already satisfied: fonttools>=4.22.0 in c:\\users\\anike\\anaconda3\\lib\\site-packages (from matplotlib->mediapipe) (4.25.0)\n",
      "Requirement already satisfied: kiwisolver>=1.0.1 in c:\\users\\anike\\anaconda3\\lib\\site-packages (from matplotlib->mediapipe) (1.3.2)\n",
      "Requirement already satisfied: pillow>=6.2.0 in c:\\users\\anike\\anaconda3\\lib\\site-packages (from matplotlib->mediapipe) (9.0.1)\n",
      "Requirement already satisfied: six>=1.5 in c:\\users\\anike\\anaconda3\\lib\\site-packages (from python-dateutil>=2.7->matplotlib->mediapipe) (1.16.0)\n"
     ]
    }
   ],
   "source": [
    "pip install mediapipe"
   ]
  },
  {
   "cell_type": "code",
   "execution_count": 18,
   "id": "29c159e9",
   "metadata": {},
   "outputs": [
    {
     "name": "stdout",
     "output_type": "stream",
     "text": [
      "Requirement already satisfied: comtypes in c:\\users\\anike\\anaconda3\\lib\\site-packages (1.1.10)\n",
      "Note: you may need to restart the kernel to use updated packages.\n",
      "Requirement already satisfied: comtypes in c:\\users\\anike\\anaconda3\\lib\\site-packages (1.1.10)\n",
      "Note: you may need to restart the kernel to use updated packages.\n"
     ]
    }
   ],
   "source": [
    "pip install comtypes"
   ]
  },
  {
   "cell_type": "code",
   "execution_count": 19,
   "id": "23d07bba",
   "metadata": {},
   "outputs": [
    {
     "name": "stdout",
     "output_type": "stream",
     "text": [
      "Requirement already satisfied: pycaw in c:\\users\\anike\\anaconda3\\lib\\site-packages (20220416)\n",
      "Requirement already satisfied: comtypes in c:\\users\\anike\\anaconda3\\lib\\site-packages (from pycaw) (1.1.10)\n",
      "Requirement already satisfied: psutil in c:\\users\\anike\\anaconda3\\lib\\site-packages (from pycaw) (5.8.0)\n",
      "Note: you may need to restart the kernel to use updated packages.\n",
      "Requirement already satisfied: pycaw in c:\\users\\anike\\anaconda3\\lib\\site-packages (20220416)\n",
      "Requirement already satisfied: comtypes in c:\\users\\anike\\anaconda3\\lib\\site-packages (from pycaw) (1.1.10)\n",
      "Requirement already satisfied: psutil in c:\\users\\anike\\anaconda3\\lib\\site-packages (from pycaw) (5.8.0)\n",
      "Note: you may need to restart the kernel to use updated packages.\n"
     ]
    }
   ],
   "source": [
    "pip install pycaw"
   ]
  },
  {
   "cell_type": "code",
   "execution_count": 20,
   "id": "500a02a6",
   "metadata": {},
   "outputs": [],
   "source": [
    "import cv2\n",
    "import mediapipe as mp\n",
    "from math import hypot\n",
    "from ctypes import cast, POINTER\n",
    "from comtypes import CLSCTX_ALL\n",
    "from pycaw.pycaw import AudioUtilities, IAudioEndpointVolume\n",
    "import numpy as np\n"
   ]
  },
  {
   "cell_type": "code",
   "execution_count": 21,
   "id": "b62f935e",
   "metadata": {},
   "outputs": [],
   "source": [
    "cap = cv2.VideoCapture(0) #Checks for camera"
   ]
  },
  {
   "cell_type": "code",
   "execution_count": 22,
   "id": "95f9d418",
   "metadata": {},
   "outputs": [],
   "source": [
    "mpHands = mp.solutions.hands #detects hand/finger\n",
    "hands = mpHands.Hands()   #complete the initialization configuration of hands\n",
    "mpDraw = mp.solutions.drawing_utils\n",
    " "
   ]
  },
  {
   "cell_type": "code",
   "execution_count": 23,
   "id": "aaf1a001",
   "metadata": {},
   "outputs": [],
   "source": [
    "#To access speaker through the library pycaw \n",
    "devices = AudioUtilities.GetSpeakers()\n",
    "interface = devices.Activate(IAudioEndpointVolume._iid_, CLSCTX_ALL, None)\n",
    "volume = cast(interface, POINTER(IAudioEndpointVolume))\n",
    "volbar=400\n",
    "volper=0\n",
    " "
   ]
  },
  {
   "cell_type": "code",
   "execution_count": 24,
   "id": "3b366432",
   "metadata": {},
   "outputs": [],
   "source": [
    "volMin,volMax = volume.GetVolumeRange()[:2]"
   ]
  },
  {
   "cell_type": "code",
   "execution_count": null,
   "id": "0e27c15c",
   "metadata": {},
   "outputs": [
    {
     "name": "stdout",
     "output_type": "stream",
     "text": [
      "-96.0 19\n",
      "-96.0 19\n",
      "-58.520327023525645 154\n",
      "-50.670173937329785 181\n",
      "-58.520327023525645 154\n",
      "-50.670173937329785 181\n",
      "-38.45339978631515 221\n",
      "-39.151537603373 219\n",
      "-38.45339978631515 221\n",
      "-39.151537603373 219\n",
      "-35.2024355725789 232\n",
      "-30.055220328564587 249\n",
      "-35.2024355725789 232\n",
      "-30.055220328564587 249\n",
      "-31.394769207616775 245\n",
      "-36.01304471133692 229\n",
      "-31.394769207616775 245\n",
      "-36.01304471133692 229\n",
      "-42.56251126126228 208\n",
      "-85.34599277500897 65\n",
      "-42.56251126126228 208\n",
      "-85.34599277500897 65\n",
      "-92.6561756331354 41\n",
      "-94.76037110047439 34\n",
      "-92.6561756331354 41\n",
      "-94.76037110047439 34\n",
      "-66.89881891594436 127\n",
      "-66.89881891594436 127\n",
      "-48.419968186647345 188\n",
      "-45.13440052918538 199\n",
      "-48.419968186647345 188\n",
      "-45.13440052918538 199\n",
      "-43.23714708661848 205\n",
      "-63.257934885777395 139\n",
      "-43.23714708661848 205\n",
      "-63.257934885777395 139\n",
      "-61.465875453846564 145\n",
      "-61.465875453846564 145\n",
      "-73.19292531526987 106\n",
      "-72.996875152573 106\n",
      "-73.19292531526987 106\n",
      "-72.996875152573 106\n",
      "-73.32335245010924 105\n",
      "-73.32335245010924 105\n",
      "-77.1645908957673 92\n",
      "-81.27722613183694 79\n",
      "-77.1645908957673 92\n",
      "-81.27722613183694 79\n",
      "-80.81322675510435 80\n",
      "-81.36845328803042 78\n",
      "-80.81322675510435 80\n",
      "-81.36845328803042 78\n",
      "-84.17861676064724 69\n",
      "-82.38230781003507 75\n",
      "-84.17861676064724 69\n",
      "-82.38230781003507 75\n",
      "-82.61228015183323 74\n",
      "-80.69259372125441 81\n",
      "-82.61228015183323 74\n",
      "-80.69259372125441 81\n",
      "-82.70089687902224 74\n",
      "-80.58176910585044 81\n",
      "-82.70089687902224 74\n",
      "-80.58176910585044 81\n",
      "-80.21774828632394 82\n",
      "-80.21774828632394 82\n",
      "-76.26726605420222 95\n",
      "-82.58214996927671 74\n",
      "-76.26726605420222 95\n",
      "-82.58214996927671 74\n",
      "-80.51735308427621 81\n",
      "-90.23890247982895 49\n",
      "-80.51735308427621 81\n",
      "-90.23890247982895 49\n",
      "-77.76105728924121 90\n",
      "-77.76105728924121 90\n",
      "-61.973264125662524 143\n",
      "-61.973264125662524 143\n",
      "-70.46349757141004 115\n",
      "-70.46349757141004 115\n",
      "-69.73627926607857 117\n",
      "-69.73627926607857 117\n",
      "-68.20747358497925 122\n",
      "-68.20747358497925 122\n",
      "-70.43614604821968 115\n",
      "-70.43614604821968 115\n",
      "-59.38421325900429 152\n",
      "-46.021190245987505 196\n",
      "-59.38421325900429 152\n",
      "-46.021190245987505 196\n",
      "-96.0 21\n",
      "-95.84139748651575 30\n",
      "-96.0 21\n",
      "-95.84139748651575 30\n",
      "-17.048820360384028 293\n",
      "-67.98919076810127 123\n",
      "-17.048820360384028 293\n",
      "-67.98919076810127 123\n",
      "-93.45876956299719 38\n",
      "-47.088343142334466 193\n",
      "-93.45876956299719 38\n",
      "-47.088343142334466 193\n",
      "-46.95096900033559 193\n",
      "-96.0 28\n",
      "-46.95096900033559 193\n",
      "-96.0 28\n",
      "-54.10068762743449 169\n",
      "-56.04757411526983 163\n",
      "-54.10068762743449 169\n",
      "-56.04757411526983 163\n",
      "-96.0 22\n",
      "-96.0 22\n",
      "-74.91462149149524 100\n",
      "-74.91462149149524 100\n",
      "-64.45557991535703 135\n",
      "-64.78209354031466 134\n",
      "-64.45557991535703 135\n",
      "-64.78209354031466 134\n",
      "-69.04377661655775 119\n",
      "-75.28636676540549 99\n",
      "-69.04377661655775 119\n",
      "-75.28636676540549 99\n"
     ]
    }
   ],
   "source": [
    "while True:\n",
    "    success,img = cap.read() #If camera works capture an image\n",
    "    imgRGB = cv2.cvtColor(img,cv2.COLOR_BGR2RGB) #Convert to rgb\n",
    "    \n",
    "    #Collection of gesture information\n",
    "    results = hands.process(imgRGB) #completes the image processing.\n",
    " \n",
    "    lmList = [] #empty list\n",
    "    if results.multi_hand_landmarks: #list of all hands detected.\n",
    "        #By accessing the list, we can get the information of each hand's corresponding flag bit\n",
    "        for handlandmark in results.multi_hand_landmarks:\n",
    "            for id,lm in enumerate(handlandmark.landmark): #adding counter and returning it\n",
    "                # Get finger joint points\n",
    "                h,w,_ = img.shape\n",
    "                cx,cy = int(lm.x*w),int(lm.y*h)\n",
    "                lmList.append([id,cx,cy]) #adding to the empty list 'lmList'\n",
    "            mpDraw.draw_landmarks(img,handlandmark,mpHands.HAND_CONNECTIONS)\n",
    "    \n",
    "    if lmList != []:\n",
    "        #getting the value at a point\n",
    "                        #x      #y\n",
    "        x1,y1 = lmList[4][1],lmList[4][2]  #thumb\n",
    "        x2,y2 = lmList[8][1],lmList[8][2]  #index finger\n",
    "        #creating circle at the tips of thumb and index finger\n",
    "        cv2.circle(img,(x1,y1),13,(255,0,0),cv2.FILLED) #image #fingers #radius #rgb\n",
    "        cv2.circle(img,(x2,y2),13,(255,0,0),cv2.FILLED) #image #fingers #radius #rgb\n",
    "        cv2.line(img,(x1,y1),(x2,y2),(255,0,0),3)  #create a line b/w tips of index finger and thumb\n",
    " \n",
    "        length = hypot(x2-x1,y2-y1) #distance b/w tips using hypotenuse\n",
    " # from numpy we find our length,by converting hand range in terms of volume range ie b/w -63.5 to 0\n",
    "        vol = np.interp(length,[30,350],[volMin,volMax]) \n",
    "        volbar=np.interp(length,[30,350],[400,150])\n",
    "        volper=np.interp(length,[30,350],[0,100])\n",
    "        \n",
    "        \n",
    "        print(vol,int(length))\n",
    "        volume.SetMasterVolumeLevel(vol, None)\n",
    "        \n",
    "        # Hand range 30 - 350\n",
    "        # Volume range -63.5 - 0.0\n",
    "        #creating volume bar for volume level \n",
    "        cv2.rectangle(img,(50,150),(85,400),(0,0,255),4) # vid ,initial position ,ending position ,rgb ,thickness\n",
    "        cv2.rectangle(img,(50,int(volbar)),(85,400),(0,0,255),cv2.FILLED)\n",
    "        cv2.putText(img,f\"{int(volper)}%\",(10,40),cv2.FONT_ITALIC,1,(0, 255, 98),3)\n",
    "        #tell the volume percentage ,location,font of text,length,rgb color,thickness\n",
    "    cv2.imshow('Image',img) #Show the video \n",
    "    if cv2.waitKey(1) & 0xff==ord(' '): #By using spacebar delay will stop\n",
    "        break\n",
    "        \n",
    "        cap.release()     #stop cam       \n",
    "        cv2.destroyAllWindows() #close window\n",
    "        \n",
    "        "
   ]
  },
  {
   "cell_type": "code",
   "execution_count": null,
   "id": "8a50ebe9",
   "metadata": {},
   "outputs": [],
   "source": [
    "exit\n"
   ]
  },
  {
   "cell_type": "code",
   "execution_count": null,
   "id": "2d4d328b",
   "metadata": {},
   "outputs": [],
   "source": []
  }
 ],
 "metadata": {
  "kernelspec": {
   "display_name": "Python 3 (ipykernel)",
   "language": "python",
   "name": "python3"
  },
  "language_info": {
   "codemirror_mode": {
    "name": "ipython",
    "version": 3
   },
   "file_extension": ".py",
   "mimetype": "text/x-python",
   "name": "python",
   "nbconvert_exporter": "python",
   "pygments_lexer": "ipython3",
   "version": "3.9.12"
  }
 },
 "nbformat": 4,
 "nbformat_minor": 5
}
